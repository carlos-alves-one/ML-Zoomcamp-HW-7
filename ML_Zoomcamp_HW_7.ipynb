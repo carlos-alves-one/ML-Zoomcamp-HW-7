{
  "nbformat": 4,
  "nbformat_minor": 0,
  "metadata": {
    "colab": {
      "provenance": [],
      "authorship_tag": "ABX9TyPaWXAj3ESvw2uQvYt8ybmX",
      "include_colab_link": true
    },
    "kernelspec": {
      "name": "python3",
      "display_name": "Python 3"
    },
    "language_info": {
      "name": "python"
    }
  },
  "cells": [
    {
      "cell_type": "markdown",
      "metadata": {
        "id": "view-in-github",
        "colab_type": "text"
      },
      "source": [
        "<a href=\"https://colab.research.google.com/github/carlos-alves-one/-ML-Zoomcamp-HW-7/blob/main/ML_Zoomcamp_HW_7.ipynb\" target=\"_parent\"><img src=\"https://colab.research.google.com/assets/colab-badge.svg\" alt=\"Open In Colab\"/></a>"
      ]
    },
    {
      "cell_type": "markdown",
      "source": [
        "## Machine Learning ZoomCamp - Homework 7\n",
        "**Author.....: Carlos Manuel de Oliveira Alves**<br>\n",
        "**Created...: 27/10/2022**"
      ],
      "metadata": {
        "id": "9qqiMkd6u4gL"
      }
    },
    {
      "cell_type": "code",
      "execution_count": 2,
      "metadata": {
        "colab": {
          "base_uri": "https://localhost:8080/"
        },
        "id": "R09YAcF-u2v1",
        "outputId": "c99804bb-8a71-43a9-dd51-2257a53695f5"
      },
      "outputs": [
        {
          "output_type": "stream",
          "name": "stdout",
          "text": [
            "Looking in indexes: https://pypi.org/simple, https://us-python.pkg.dev/colab-wheels/public/simple/\n",
            "Collecting bentoml\n",
            "  Downloading bentoml-1.0.7-py3-none-any.whl (858 kB)\n",
            "\u001b[K     |████████████████████████████████| 858 kB 15.2 MB/s \n",
            "\u001b[?25hCollecting pynvml<12\n",
            "  Downloading pynvml-11.4.1-py3-none-any.whl (46 kB)\n",
            "\u001b[K     |████████████████████████████████| 46 kB 4.7 MB/s \n",
            "\u001b[?25hCollecting fs\n",
            "  Downloading fs-2.4.16-py2.py3-none-any.whl (135 kB)\n",
            "\u001b[K     |████████████████████████████████| 135 kB 56.2 MB/s \n",
            "\u001b[?25hCollecting circus\n",
            "  Downloading circus-0.17.2-py3-none-any.whl (204 kB)\n",
            "\u001b[K     |████████████████████████████████| 204 kB 61.6 MB/s \n",
            "\u001b[?25hRequirement already satisfied: requests in /usr/local/lib/python3.7/dist-packages (from bentoml) (2.23.0)\n",
            "Collecting cattrs>=22.1.0\n",
            "  Downloading cattrs-22.2.0-py3-none-any.whl (35 kB)\n",
            "Requirement already satisfied: importlib-metadata in /usr/local/lib/python3.7/dist-packages (from bentoml) (4.13.0)\n",
            "Collecting Jinja2>=3.0.1\n",
            "  Downloading Jinja2-3.1.2-py3-none-any.whl (133 kB)\n",
            "\u001b[K     |████████████████████████████████| 133 kB 57.0 MB/s \n",
            "\u001b[?25hCollecting python-dotenv>=0.20.0\n",
            "  Downloading python_dotenv-0.21.0-py3-none-any.whl (18 kB)\n",
            "Collecting pathspec\n",
            "  Downloading pathspec-0.10.1-py3-none-any.whl (27 kB)\n",
            "Collecting prometheus-client>=0.10.0\n",
            "  Downloading prometheus_client-0.15.0-py3-none-any.whl (60 kB)\n",
            "\u001b[K     |████████████████████████████████| 60 kB 7.5 MB/s \n",
            "\u001b[?25hCollecting opentelemetry-instrumentation==0.33b0\n",
            "  Downloading opentelemetry_instrumentation-0.33b0-py3-none-any.whl (23 kB)\n",
            "Collecting pip-tools>=6.6.2\n",
            "  Downloading pip_tools-6.9.0-py3-none-any.whl (52 kB)\n",
            "\u001b[K     |████████████████████████████████| 52 kB 1.0 MB/s \n",
            "\u001b[?25hCollecting schema\n",
            "  Downloading schema-0.7.5-py2.py3-none-any.whl (17 kB)\n",
            "Requirement already satisfied: attrs>=21.1.0 in /usr/local/lib/python3.7/dist-packages (from bentoml) (22.1.0)\n",
            "Collecting backports.cached-property\n",
            "  Downloading backports.cached_property-1.0.2-py3-none-any.whl (6.1 kB)\n",
            "Collecting uvicorn\n",
            "  Downloading uvicorn-0.19.0-py3-none-any.whl (56 kB)\n",
            "\u001b[K     |████████████████████████████████| 56 kB 4.2 MB/s \n",
            "\u001b[?25hRequirement already satisfied: packaging>=20.0 in /usr/local/lib/python3.7/dist-packages (from bentoml) (21.3)\n",
            "Collecting opentelemetry-sdk>=1.9.0\n",
            "  Downloading opentelemetry_sdk-1.13.0-py3-none-any.whl (81 kB)\n",
            "\u001b[K     |████████████████████████████████| 81 kB 9.7 MB/s \n",
            "\u001b[?25hCollecting python-multipart\n",
            "  Downloading python-multipart-0.0.5.tar.gz (32 kB)\n",
            "Collecting backports.shutil-copytree\n",
            "  Downloading backports.shutil_copytree-0.0.0.2.tar.gz (3.1 kB)\n",
            "Requirement already satisfied: aiohttp in /usr/local/lib/python3.7/dist-packages (from bentoml) (3.8.3)\n",
            "Requirement already satisfied: PyYAML>=5.0 in /usr/local/lib/python3.7/dist-packages (from bentoml) (6.0)\n",
            "Requirement already satisfied: psutil in /usr/local/lib/python3.7/dist-packages (from bentoml) (5.4.8)\n",
            "Collecting opentelemetry-instrumentation-aiohttp-client==0.33b0\n",
            "  Downloading opentelemetry_instrumentation_aiohttp_client-0.33b0-py3-none-any.whl (11 kB)\n",
            "Requirement already satisfied: click>=7.0 in /usr/local/lib/python3.7/dist-packages (from bentoml) (7.1.2)\n",
            "Collecting watchfiles>=0.15.0\n",
            "  Downloading watchfiles-0.18.0-cp37-abi3-manylinux_2_17_x86_64.manylinux2014_x86_64.whl (1.2 MB)\n",
            "\u001b[K     |████████████████████████████████| 1.2 MB 66.6 MB/s \n",
            "\u001b[?25hCollecting opentelemetry-util-http==0.33b0\n",
            "  Downloading opentelemetry_util_http-0.33b0-py3-none-any.whl (6.6 kB)\n",
            "Collecting deepmerge\n",
            "  Downloading deepmerge-1.1.0-py3-none-any.whl (8.5 kB)\n",
            "Collecting opentelemetry-instrumentation-asgi==0.33b0\n",
            "  Downloading opentelemetry_instrumentation_asgi-0.33b0-py3-none-any.whl (8.9 kB)\n",
            "Collecting opentelemetry-api>=1.9.0\n",
            "  Downloading opentelemetry_api-1.13.0-py3-none-any.whl (50 kB)\n",
            "\u001b[K     |████████████████████████████████| 50 kB 6.8 MB/s \n",
            "\u001b[?25hCollecting rich>=11.2.0\n",
            "  Downloading rich-12.6.0-py3-none-any.whl (237 kB)\n",
            "\u001b[K     |████████████████████████████████| 237 kB 49.8 MB/s \n",
            "\u001b[?25hRequirement already satisfied: cloudpickle in /usr/local/lib/python3.7/dist-packages (from bentoml) (1.5.0)\n",
            "Collecting simple-di>=0.1.4\n",
            "  Downloading simple_di-0.1.5-py3-none-any.whl (9.8 kB)\n",
            "Requirement already satisfied: python-dateutil in /usr/local/lib/python3.7/dist-packages (from bentoml) (2.8.2)\n",
            "Collecting opentelemetry-semantic-conventions==0.33b0\n",
            "  Downloading opentelemetry_semantic_conventions-0.33b0-py3-none-any.whl (26 kB)\n",
            "Requirement already satisfied: numpy in /usr/local/lib/python3.7/dist-packages (from bentoml) (1.21.6)\n",
            "Collecting starlette\n",
            "  Downloading starlette-0.21.0-py3-none-any.whl (64 kB)\n",
            "\u001b[K     |████████████████████████████████| 64 kB 2.5 MB/s \n",
            "\u001b[?25hRequirement already satisfied: setuptools>=16.0 in /usr/local/lib/python3.7/dist-packages (from opentelemetry-instrumentation==0.33b0->bentoml) (57.4.0)\n",
            "Requirement already satisfied: wrapt<2.0.0,>=1.0.0 in /usr/local/lib/python3.7/dist-packages (from opentelemetry-instrumentation==0.33b0->bentoml) (1.14.1)\n",
            "Collecting asgiref~=3.0\n",
            "  Downloading asgiref-3.5.2-py3-none-any.whl (22 kB)\n",
            "Requirement already satisfied: typing-extensions in /usr/local/lib/python3.7/dist-packages (from asgiref~=3.0->opentelemetry-instrumentation-asgi==0.33b0->bentoml) (4.1.1)\n",
            "Collecting exceptiongroup\n",
            "  Downloading exceptiongroup-1.0.0-py3-none-any.whl (12 kB)\n",
            "Requirement already satisfied: MarkupSafe>=2.0 in /usr/local/lib/python3.7/dist-packages (from Jinja2>=3.0.1->bentoml) (2.0.1)\n",
            "Collecting deprecated>=1.2.6\n",
            "  Downloading Deprecated-1.2.13-py2.py3-none-any.whl (9.6 kB)\n",
            "Collecting opentelemetry-sdk>=1.9.0\n",
            "  Downloading opentelemetry_sdk-1.12.0-py3-none-any.whl (81 kB)\n",
            "\u001b[K     |████████████████████████████████| 81 kB 9.1 MB/s \n",
            "\u001b[?25hCollecting opentelemetry-api>=1.9.0\n",
            "  Downloading opentelemetry_api-1.12.0-py3-none-any.whl (52 kB)\n",
            "\u001b[K     |████████████████████████████████| 52 kB 744 kB/s \n",
            "\u001b[?25hRequirement already satisfied: pyparsing!=3.0.5,>=2.0.2 in /usr/local/lib/python3.7/dist-packages (from packaging>=20.0->bentoml) (3.0.9)\n",
            "Collecting pip>=21.2\n",
            "  Downloading pip-22.3-py3-none-any.whl (2.1 MB)\n",
            "\u001b[K     |████████████████████████████████| 2.1 MB 46.8 MB/s \n",
            "\u001b[?25hRequirement already satisfied: wheel in /usr/local/lib/python3.7/dist-packages (from pip-tools>=6.6.2->bentoml) (0.37.1)\n",
            "Collecting build\n",
            "  Downloading build-0.8.0-py3-none-any.whl (17 kB)\n",
            "Requirement already satisfied: pygments<3.0.0,>=2.6.0 in /usr/local/lib/python3.7/dist-packages (from rich>=11.2.0->bentoml) (2.6.1)\n",
            "Collecting commonmark<0.10.0,>=0.9.0\n",
            "  Downloading commonmark-0.9.1-py2.py3-none-any.whl (51 kB)\n",
            "\u001b[K     |████████████████████████████████| 51 kB 6.0 MB/s \n",
            "\u001b[?25hCollecting anyio<4,>=3.0.0\n",
            "  Downloading anyio-3.6.2-py3-none-any.whl (80 kB)\n",
            "\u001b[K     |████████████████████████████████| 80 kB 8.7 MB/s \n",
            "\u001b[?25hCollecting sniffio>=1.1\n",
            "  Downloading sniffio-1.3.0-py3-none-any.whl (10 kB)\n",
            "Requirement already satisfied: idna>=2.8 in /usr/local/lib/python3.7/dist-packages (from anyio<4,>=3.0.0->watchfiles>=0.15.0->bentoml) (2.10)\n",
            "Requirement already satisfied: asynctest==0.13.0 in /usr/local/lib/python3.7/dist-packages (from aiohttp->bentoml) (0.13.0)\n",
            "Requirement already satisfied: charset-normalizer<3.0,>=2.0 in /usr/local/lib/python3.7/dist-packages (from aiohttp->bentoml) (2.1.1)\n",
            "Requirement already satisfied: async-timeout<5.0,>=4.0.0a3 in /usr/local/lib/python3.7/dist-packages (from aiohttp->bentoml) (4.0.2)\n",
            "Requirement already satisfied: aiosignal>=1.1.2 in /usr/local/lib/python3.7/dist-packages (from aiohttp->bentoml) (1.2.0)\n",
            "Requirement already satisfied: yarl<2.0,>=1.0 in /usr/local/lib/python3.7/dist-packages (from aiohttp->bentoml) (1.8.1)\n",
            "Requirement already satisfied: multidict<7.0,>=4.5 in /usr/local/lib/python3.7/dist-packages (from aiohttp->bentoml) (6.0.2)\n",
            "Requirement already satisfied: frozenlist>=1.1.1 in /usr/local/lib/python3.7/dist-packages (from aiohttp->bentoml) (1.3.1)\n",
            "Requirement already satisfied: pep517>=0.9.1 in /usr/local/lib/python3.7/dist-packages (from build->pip-tools>=6.6.2->bentoml) (0.13.0)\n",
            "Requirement already satisfied: tomli>=1.0.0 in /usr/local/lib/python3.7/dist-packages (from build->pip-tools>=6.6.2->bentoml) (2.0.1)\n",
            "Requirement already satisfied: zipp>=0.5 in /usr/local/lib/python3.7/dist-packages (from importlib-metadata->bentoml) (3.9.0)\n",
            "Requirement already satisfied: pyzmq>=17.0 in /usr/local/lib/python3.7/dist-packages (from circus->bentoml) (23.2.1)\n",
            "Requirement already satisfied: tornado>=5.0.2 in /usr/local/lib/python3.7/dist-packages (from circus->bentoml) (5.1.1)\n",
            "Requirement already satisfied: appdirs~=1.4.3 in /usr/local/lib/python3.7/dist-packages (from fs->bentoml) (1.4.4)\n",
            "Requirement already satisfied: six~=1.10 in /usr/local/lib/python3.7/dist-packages (from fs->bentoml) (1.15.0)\n",
            "Requirement already satisfied: chardet<4,>=3.0.2 in /usr/local/lib/python3.7/dist-packages (from requests->bentoml) (3.0.4)\n",
            "Requirement already satisfied: urllib3!=1.25.0,!=1.25.1,<1.26,>=1.21.1 in /usr/local/lib/python3.7/dist-packages (from requests->bentoml) (1.24.3)\n",
            "Requirement already satisfied: certifi>=2017.4.17 in /usr/local/lib/python3.7/dist-packages (from requests->bentoml) (2022.9.24)\n",
            "Requirement already satisfied: contextlib2>=0.5.5 in /usr/local/lib/python3.7/dist-packages (from schema->bentoml) (0.5.5)\n",
            "Collecting h11>=0.8\n",
            "  Downloading h11-0.14.0-py3-none-any.whl (58 kB)\n",
            "\u001b[K     |████████████████████████████████| 58 kB 5.1 MB/s \n",
            "\u001b[?25hBuilding wheels for collected packages: backports.shutil-copytree, python-multipart\n",
            "  Building wheel for backports.shutil-copytree (setup.py) ... \u001b[?25l\u001b[?25hdone\n",
            "  Created wheel for backports.shutil-copytree: filename=backports.shutil_copytree-0.0.0.2-py3-none-any.whl size=3580 sha256=93f5a92117ba0691a8e15cb51a12252b123e9202e65fea72e6dc0c6f5dec76d9\n",
            "  Stored in directory: /root/.cache/pip/wheels/c0/eb/36/e2f012ecfdf0a3db261712eb905852981ca85c6a350c2297ff\n",
            "  Building wheel for python-multipart (setup.py) ... \u001b[?25l\u001b[?25hdone\n",
            "  Created wheel for python-multipart: filename=python_multipart-0.0.5-py3-none-any.whl size=31678 sha256=acfbdd559671eecbd4bbc476ac57f348a22ea2a39d9d0b04a86743c1f4f0fcf6\n",
            "  Stored in directory: /root/.cache/pip/wheels/2c/41/7c/bfd1c180534ffdcc0972f78c5758f89881602175d48a8bcd2c\n",
            "Successfully built backports.shutil-copytree python-multipart\n",
            "Installing collected packages: deprecated, sniffio, opentelemetry-api, pip, opentelemetry-util-http, opentelemetry-semantic-conventions, opentelemetry-instrumentation, h11, exceptiongroup, commonmark, build, asgiref, anyio, watchfiles, uvicorn, starlette, simple-di, schema, rich, python-multipart, python-dotenv, pynvml, prometheus-client, pip-tools, pathspec, opentelemetry-sdk, opentelemetry-instrumentation-asgi, opentelemetry-instrumentation-aiohttp-client, Jinja2, fs, deepmerge, circus, cattrs, backports.shutil-copytree, backports.cached-property, bentoml\n",
            "  Attempting uninstall: pip\n",
            "    Found existing installation: pip 21.1.3\n",
            "    Uninstalling pip-21.1.3:\n",
            "      Successfully uninstalled pip-21.1.3\n",
            "  Attempting uninstall: pip-tools\n",
            "    Found existing installation: pip-tools 6.2.0\n",
            "    Uninstalling pip-tools-6.2.0:\n",
            "      Successfully uninstalled pip-tools-6.2.0\n",
            "  Attempting uninstall: Jinja2\n",
            "    Found existing installation: Jinja2 2.11.3\n",
            "    Uninstalling Jinja2-2.11.3:\n",
            "      Successfully uninstalled Jinja2-2.11.3\n",
            "\u001b[31mERROR: pip's dependency resolver does not currently take into account all the packages that are installed. This behaviour is the source of the following dependency conflicts.\n",
            "flask 1.1.4 requires Jinja2<3.0,>=2.10.1, but you have jinja2 3.1.2 which is incompatible.\u001b[0m\n",
            "Successfully installed Jinja2-3.1.2 anyio-3.6.2 asgiref-3.5.2 backports.cached-property-1.0.2 backports.shutil-copytree-0.0.0.2 bentoml-1.0.7 build-0.8.0 cattrs-22.2.0 circus-0.17.2 commonmark-0.9.1 deepmerge-1.1.0 deprecated-1.2.13 exceptiongroup-1.0.0 fs-2.4.16 h11-0.14.0 opentelemetry-api-1.12.0 opentelemetry-instrumentation-0.33b0 opentelemetry-instrumentation-aiohttp-client-0.33b0 opentelemetry-instrumentation-asgi-0.33b0 opentelemetry-sdk-1.12.0 opentelemetry-semantic-conventions-0.33b0 opentelemetry-util-http-0.33b0 pathspec-0.10.1 pip-22.3 pip-tools-6.9.0 prometheus-client-0.15.0 pynvml-11.4.1 python-dotenv-0.21.0 python-multipart-0.0.5 rich-12.6.0 schema-0.7.5 simple-di-0.1.5 sniffio-1.3.0 starlette-0.21.0 uvicorn-0.19.0 watchfiles-0.18.0\n"
          ]
        }
      ],
      "source": [
        "# Install the library BentoML\n",
        "!pip install bentoml"
      ]
    },
    {
      "cell_type": "code",
      "source": [
        "# Import the library BentoML\n",
        "import bentoml "
      ],
      "metadata": {
        "id": "F0vefd-OxJOC"
      },
      "execution_count": 5,
      "outputs": []
    },
    {
      "cell_type": "code",
      "source": [
        "# Check the version of Bento ML\n",
        "!bentoml --version"
      ],
      "metadata": {
        "colab": {
          "base_uri": "https://localhost:8080/"
        },
        "id": "Zp7sE9oDyMdx",
        "outputId": "8ee1ed2c-a9ea-4f74-cbe8-29577f48aba1"
      },
      "execution_count": 6,
      "outputs": [
        {
          "output_type": "stream",
          "name": "stdout",
          "text": [
            "bentoml, version 1.0.7\n"
          ]
        }
      ]
    },
    {
      "cell_type": "code",
      "source": [
        "# QUESTION 1 : What's the version of BentoML you installed?\n",
        "# ANSWER.... : version 1.0.7"
      ],
      "metadata": {
        "id": "E_JUyBUsyToX"
      },
      "execution_count": null,
      "outputs": []
    },
    {
      "cell_type": "code",
      "source": [],
      "metadata": {
        "id": "ryBwhpCtzyMJ"
      },
      "execution_count": null,
      "outputs": []
    },
    {
      "cell_type": "code",
      "source": [
        "# Check how big approximately is the saved BentoML model\n",
        "!bentoml models list -o json"
      ],
      "metadata": {
        "colab": {
          "base_uri": "https://localhost:8080/"
        },
        "id": "FJMPoYJWyyPp",
        "outputId": "5e5019f6-394d-4b9b-dad9-7df48e066a1f"
      },
      "execution_count": 7,
      "outputs": [
        {
          "output_type": "stream",
          "name": "stdout",
          "text": [
            "\u001b[1m[\u001b[0m\u001b[1m]\u001b[0m\n"
          ]
        }
      ]
    },
    {
      "cell_type": "markdown",
      "source": [
        "[\n",
        "  {\n",
        "    \"tag\": \"credit_risk_model:w7mf52ctsw3x7c45\",\n",
        "    \"module\": \"bentoml.xgboost\",\n",
        "    \"size\": \"197.00 KiB\",\n",
        "    \"creation_time\": \"2022-10-24 13:16:41\"\n",
        "  },\n",
        "  {\n",
        "    \"tag\": \"credit_risk_model:xp3vjustsk3x7c45\",\n",
        "    \"module\": \"bentoml.xgboost\",\n",
        "    \"size\": \"196.30 KiB\",\n",
        "    \"creation_time\": \"2022-10-24 12:55:20\"\n",
        "  },\n",
        "  {\n",
        "    \"tag\": \"credit_risk_model:23dxtqctdsdi63md\",\n",
        "    \"module\": \"bentoml.xgboost\",\n",
        "    \"size\": \"196.30 KiB\",\n",
        "    \"creation_time\": \"2022-10-23 22:51:24\"\n",
        "  },\n",
        "  {\n",
        "    \"tag\": \"credit_risk_model:rm4myjstdoshnh64\",\n",
        "    \"module\": \"bentoml.xgboost\",\n",
        "    \"size\": \"196.30 KiB\",\n",
        "    \"creation_time\": \"2022-10-23 22:42:08\"\n",
        "  },\n",
        "  {\n",
        "    \"tag\": \"credit_risk_model:rpfbr7stdg2s233k\",\n",
        "    \"module\": \"bentoml.xgboost\",\n",
        "    \"size\": \"196.30 KiB\",\n",
        "    \"creation_time\": \"2022-10-23 22:27:50\"\n",
        "  },\n",
        "  {\n",
        "    \"tag\": \"credit_risk_model:hn7jh7cp4wc6yaav\",\n",
        "    \"module\": \"bentoml.xgboost\",\n",
        "    \"size\": \"197.00 KiB\",\n",
        "    \"creation_time\": \"2022-10-19 20:35:48\"\n",
        "  },\n",
        "  {\n",
        "    \"tag\": \"credit_risk_model:oou2t5cp4kywoaav\",\n",
        "    \"module\": \"bentoml.xgboost\",\n",
        "    \"size\": \"196.30 KiB\",\n",
        "    \"creation_time\": \"2022-10-19 20:15:54\"\n",
        "  },\n",
        "  {\n",
        "    \"tag\": \"credit_risk_model:fqvylysp32noyaav\",\n",
        "    \"module\": \"bentoml.xgboost\",\n",
        "    \"size\": \"196.30 KiB\",\n",
        "    \"creation_time\": \"2022-10-19 19:45:16\"\n",
        "  },\n",
        "  {\n",
        "    \"tag\": \"credit_risk_model:rs57k4cp22ogcaav\",\n",
        "    \"module\": \"bentoml.xgboost\",\n",
        "    \"size\": \"196.30 KiB\",\n",
        "    \"creation_time\": \"2022-10-19 18:50:42\"\n",
        "  },\n",
        "  {\n",
        "    \"tag\": \"credit_risk_model:qzfmplcp22ogcaav\",\n",
        "    \"module\": \"bentoml.xgboost\",\n",
        "    \"size\": \"196.30 KiB\",\n",
        "    \"creation_time\": \"2022-10-19 18:50:31\"\n",
        "  }\n",
        "]"
      ],
      "metadata": {
        "id": "6Z6t5WxRzYXh"
      }
    },
    {
      "cell_type": "code",
      "source": [
        "# QUESTION 2 : How big approximately is the saved BentoML model?\n",
        "# ANSWER.... : 196/197kb --> 114kb"
      ],
      "metadata": {
        "id": "gSwXWy9Iz4kp"
      },
      "execution_count": null,
      "outputs": []
    },
    {
      "cell_type": "code",
      "source": [
        "# QUESTION 3 : Pydantic class?\n",
        "# ANSWER.... : \n",
        "\n",
        "# pydantic class for data validation\n",
        "# class UserProfile(BaseModel):\n",
        "#     name: str\n",
        "#     age: int\n",
        "#     country: str\n",
        "#     rating: float"
      ],
      "metadata": {
        "id": "b_Ds4Dwe0dz7"
      },
      "execution_count": 9,
      "outputs": []
    },
    {
      "cell_type": "code",
      "source": [
        "#  Import a prepared a model\n",
        "!curl -O https://s3.us-west-2.amazonaws.com/bentoml.com/mlzoomcamp/coolmodel.bentomodel"
      ],
      "metadata": {
        "colab": {
          "base_uri": "https://localhost:8080/"
        },
        "id": "xwbXQsZ622BN",
        "outputId": "d2affdb2-2780-475e-baa0-190abd73c3cf"
      },
      "execution_count": 10,
      "outputs": [
        {
          "output_type": "stream",
          "name": "stdout",
          "text": [
            "  % Total    % Received % Xferd  Average Speed   Time    Time     Time  Current\n",
            "                                 Dload  Upload   Total   Spent    Left  Speed\n",
            "100  1724  100  1724    0     0   2301      0 --:--:-- --:--:-- --:--:--  2298\n"
          ]
        }
      ]
    },
    {
      "cell_type": "code",
      "source": [
        "# Import cool model \n",
        "!bentoml models import coolmodel.bentomodel"
      ],
      "metadata": {
        "colab": {
          "base_uri": "https://localhost:8080/"
        },
        "id": "1Lx4mBq03ask",
        "outputId": "fc17c4eb-d676-4491-d4db-7a9b08a3dffb"
      },
      "execution_count": 11,
      "outputs": [
        {
          "output_type": "stream",
          "name": "stdout",
          "text": [
            "Model(tag=\"mlzoomcamp_homework:qtzdz3slg6mwwdu5\") imported\n"
          ]
        }
      ]
    },
    {
      "cell_type": "code",
      "source": [
        "# Check Scikit version of the model\n",
        "!bentoml models get mlzoomcamp_homework:qtzdz3slg6mwwdu5"
      ],
      "metadata": {
        "colab": {
          "base_uri": "https://localhost:8080/"
        },
        "id": "Ix1nJ4G53xbj",
        "outputId": "8d8e606b-434d-41b4-ecad-ba7dab7fa4d6"
      },
      "execution_count": 12,
      "outputs": [
        {
          "output_type": "stream",
          "name": "stdout",
          "text": [
            "\u001b[91;40mname\u001b[0m\u001b[97;40m:\u001b[0m\u001b[97;40m \u001b[0m\u001b[40mmlzoomcamp_homework\u001b[0m\u001b[40m                                                       \u001b[0m\n",
            "\u001b[91;40mversion\u001b[0m\u001b[97;40m:\u001b[0m\u001b[97;40m \u001b[0m\u001b[40mqtzdz3slg6mwwdu5\u001b[0m\u001b[40m                                                       \u001b[0m\n",
            "\u001b[91;40mmodule\u001b[0m\u001b[97;40m:\u001b[0m\u001b[97;40m \u001b[0m\u001b[40mbentoml.sklearn\u001b[0m\u001b[40m                                                         \u001b[0m\n",
            "\u001b[91;40mlabels\u001b[0m\u001b[97;40m:\u001b[0m\u001b[97;40m \u001b[0m\u001b[40m{\u001b[0m\u001b[40m}\u001b[0m\u001b[40m                                                                      \u001b[0m\n",
            "\u001b[91;40moptions\u001b[0m\u001b[97;40m:\u001b[0m\u001b[97;40m \u001b[0m\u001b[40m{\u001b[0m\u001b[40m}\u001b[0m\u001b[40m                                                                     \u001b[0m\n",
            "\u001b[91;40mmetadata\u001b[0m\u001b[97;40m:\u001b[0m\u001b[97;40m \u001b[0m\u001b[40m{\u001b[0m\u001b[40m}\u001b[0m\u001b[40m                                                                    \u001b[0m\n",
            "\u001b[91;40mcontext\u001b[0m\u001b[97;40m:\u001b[0m\u001b[40m                                                                        \u001b[0m\n",
            "\u001b[97;40m  \u001b[0m\u001b[91;40mframework_name\u001b[0m\u001b[97;40m:\u001b[0m\u001b[97;40m \u001b[0m\u001b[40msklearn\u001b[0m\u001b[40m                                                       \u001b[0m\n",
            "\u001b[97;40m  \u001b[0m\u001b[91;40mframework_versions\u001b[0m\u001b[97;40m:\u001b[0m\u001b[40m                                                           \u001b[0m\n",
            "\u001b[97;40m    \u001b[0m\u001b[91;40mscikit-learn\u001b[0m\u001b[97;40m:\u001b[0m\u001b[97;40m \u001b[0m\u001b[40m1.1.1\u001b[0m\u001b[40m                                                         \u001b[0m\n",
            "\u001b[97;40m  \u001b[0m\u001b[91;40mbentoml_version\u001b[0m\u001b[97;40m:\u001b[0m\u001b[97;40m \u001b[0m\u001b[40m1.0.7\u001b[0m\u001b[40m                                                        \u001b[0m\n",
            "\u001b[97;40m  \u001b[0m\u001b[91;40mpython_version\u001b[0m\u001b[97;40m:\u001b[0m\u001b[97;40m \u001b[0m\u001b[40m3.9.12\u001b[0m\u001b[40m                                                        \u001b[0m\n",
            "\u001b[91;40msignatures\u001b[0m\u001b[97;40m:\u001b[0m\u001b[40m                                                                     \u001b[0m\n",
            "\u001b[97;40m  \u001b[0m\u001b[91;40mpredict\u001b[0m\u001b[97;40m:\u001b[0m\u001b[40m                                                                      \u001b[0m\n",
            "\u001b[97;40m    \u001b[0m\u001b[91;40mbatchable\u001b[0m\u001b[97;40m:\u001b[0m\u001b[97;40m \u001b[0m\u001b[40mfalse\u001b[0m\u001b[40m                                                            \u001b[0m\n",
            "\u001b[91;40mapi_version\u001b[0m\u001b[97;40m:\u001b[0m\u001b[97;40m \u001b[0m\u001b[40mv1\u001b[0m\u001b[40m                                                                 \u001b[0m\n",
            "\u001b[91;40mcreation_time\u001b[0m\u001b[97;40m:\u001b[0m\u001b[97;40m \u001b[0m\u001b[93;40m'\u001b[0m\u001b[93;40m2022-10-13T20:42:14.411084+00:00\u001b[0m\u001b[93;40m'\u001b[0m\u001b[40m                               \u001b[0m\n",
            "\u001b[40m                                                                                \u001b[0m\n"
          ]
        }
      ]
    },
    {
      "cell_type": "code",
      "source": [
        "# QUESTION 4 : Scikit-Learn version of the trained model?\n",
        "# ANSWER.... : 1.1.1"
      ],
      "metadata": {
        "id": "QHqgqMU54e3k"
      },
      "execution_count": null,
      "outputs": []
    },
    {
      "cell_type": "code",
      "source": [
        "!curl -X 'POST' \\\n",
        "  'http://localhost:3000/classify' \\\n",
        "  -H 'accept: application/json' \\\n",
        "  -H 'Content-Type: application/json' \\\n",
        "  -d '[[6.4,3.5,4.5,1.2]]'"
      ],
      "metadata": {
        "colab": {
          "base_uri": "https://localhost:8080/"
        },
        "id": "D9EgmP5S4t7h",
        "outputId": "d034ab87-7f2d-4ffe-f4c3-a952faa4f9d5"
      },
      "execution_count": 14,
      "outputs": [
        {
          "output_type": "stream",
          "name": "stdout",
          "text": [
            "curl: (7) Failed to connect to localhost port 3000: Connection refused\n"
          ]
        }
      ]
    },
    {
      "cell_type": "code",
      "source": [
        "# QUESTION 5 : Output form the model?\n",
        "# ANSWER.... : 1"
      ],
      "metadata": {
        "id": "BMrLCzYR57K5"
      },
      "execution_count": null,
      "outputs": []
    },
    {
      "cell_type": "code",
      "source": [
        "# Download a second model\n",
        "!curl -O https://s3.us-west-2.amazonaws.com/bentoml.com/mlzoomcamp/coolmodel2.bentomodel"
      ],
      "metadata": {
        "colab": {
          "base_uri": "https://localhost:8080/"
        },
        "id": "gIqHskNR6C5H",
        "outputId": "1f17317b-3e18-4f72-daca-eec4a92411c9"
      },
      "execution_count": 15,
      "outputs": [
        {
          "output_type": "stream",
          "name": "stdout",
          "text": [
            "  % Total    % Received % Xferd  Average Speed   Time    Time     Time  Current\n",
            "                                 Dload  Upload   Total   Spent    Left  Speed\n",
            "100  1728  100  1728    0     0   2252      0 --:--:-- --:--:-- --:--:--  2250\n"
          ]
        }
      ]
    },
    {
      "cell_type": "code",
      "source": [
        "# Import cool model 2\n",
        "!bentoml models import coolmodel2.bentomodel"
      ],
      "metadata": {
        "id": "N8oFN4446WK8"
      },
      "execution_count": null,
      "outputs": []
    }
  ]
}